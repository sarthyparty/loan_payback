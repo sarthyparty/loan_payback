{
 "cells": [
  {
   "cell_type": "code",
   "execution_count": 1,
   "metadata": {},
   "outputs": [],
   "source": [
    "import pandas as pd\n",
    "import numpy as np\n",
    "import seaborn as sns\n",
    "import matplotlib.pyplot as plt"
   ]
  },
  {
   "cell_type": "code",
   "execution_count": 2,
   "metadata": {},
   "outputs": [],
   "source": [
    "data_info = pd.read_csv('DATA/lending_club_info.csv', index_col = 'LoanStatNew')"
   ]
  },
  {
   "cell_type": "code",
   "execution_count": 3,
   "metadata": {
    "tags": []
   },
   "outputs": [
    {
     "name": "stdout",
     "output_type": "stream",
     "text": [
      "<class 'pandas.core.frame.DataFrame'>\n",
      "Index: 28 entries, loan_amnt to pub_rec_bankruptcies\n",
      "Data columns (total 1 columns):\n",
      " #   Column       Non-Null Count  Dtype \n",
      "---  ------       --------------  ----- \n",
      " 0   Description  28 non-null     object\n",
      "dtypes: object(1)\n",
      "memory usage: 448.0+ bytes\n"
     ]
    }
   ],
   "source": [
    "data_info.info()"
   ]
  },
  {
   "cell_type": "code",
   "execution_count": 4,
   "metadata": {},
   "outputs": [],
   "source": [
    "def get_info(col):\n",
    "    return data_info.loc[col][0]"
   ]
  },
  {
   "cell_type": "code",
   "execution_count": 5,
   "metadata": {},
   "outputs": [
    {
     "data": {
      "text/plain": [
       "'The number of payments on the loan. Values are in months and can be either 36 or 60.'"
      ]
     },
     "execution_count": 5,
     "metadata": {},
     "output_type": "execute_result"
    }
   ],
   "source": [
    "get_info('term')"
   ]
  },
  {
   "cell_type": "code",
   "execution_count": 6,
   "metadata": {},
   "outputs": [],
   "source": [
    "df = pd.read_csv('DATA/lending_club_loan_two.csv')"
   ]
  },
  {
   "cell_type": "code",
   "execution_count": 7,
   "metadata": {},
   "outputs": [
    {
     "data": {
      "text/html": [
       "<div>\n",
       "<style scoped>\n",
       "    .dataframe tbody tr th:only-of-type {\n",
       "        vertical-align: middle;\n",
       "    }\n",
       "\n",
       "    .dataframe tbody tr th {\n",
       "        vertical-align: top;\n",
       "    }\n",
       "\n",
       "    .dataframe thead th {\n",
       "        text-align: right;\n",
       "    }\n",
       "</style>\n",
       "<table border=\"1\" class=\"dataframe\">\n",
       "  <thead>\n",
       "    <tr style=\"text-align: right;\">\n",
       "      <th></th>\n",
       "      <th>loan_amnt</th>\n",
       "      <th>term</th>\n",
       "      <th>int_rate</th>\n",
       "      <th>installment</th>\n",
       "      <th>grade</th>\n",
       "      <th>sub_grade</th>\n",
       "      <th>emp_title</th>\n",
       "      <th>emp_length</th>\n",
       "      <th>home_ownership</th>\n",
       "      <th>annual_inc</th>\n",
       "      <th>...</th>\n",
       "      <th>open_acc</th>\n",
       "      <th>pub_rec</th>\n",
       "      <th>revol_bal</th>\n",
       "      <th>revol_util</th>\n",
       "      <th>total_acc</th>\n",
       "      <th>initial_list_status</th>\n",
       "      <th>application_type</th>\n",
       "      <th>mort_acc</th>\n",
       "      <th>pub_rec_bankruptcies</th>\n",
       "      <th>address</th>\n",
       "    </tr>\n",
       "  </thead>\n",
       "  <tbody>\n",
       "    <tr>\n",
       "      <th>0</th>\n",
       "      <td>10000.0</td>\n",
       "      <td>36 months</td>\n",
       "      <td>11.44</td>\n",
       "      <td>329.48</td>\n",
       "      <td>B</td>\n",
       "      <td>B4</td>\n",
       "      <td>Marketing</td>\n",
       "      <td>10+ years</td>\n",
       "      <td>RENT</td>\n",
       "      <td>117000.0</td>\n",
       "      <td>...</td>\n",
       "      <td>16.0</td>\n",
       "      <td>0.0</td>\n",
       "      <td>36369.0</td>\n",
       "      <td>41.8</td>\n",
       "      <td>25.0</td>\n",
       "      <td>w</td>\n",
       "      <td>INDIVIDUAL</td>\n",
       "      <td>0.0</td>\n",
       "      <td>0.0</td>\n",
       "      <td>0174 Michelle Gateway\\nMendozaberg, OK 22690</td>\n",
       "    </tr>\n",
       "    <tr>\n",
       "      <th>1</th>\n",
       "      <td>8000.0</td>\n",
       "      <td>36 months</td>\n",
       "      <td>11.99</td>\n",
       "      <td>265.68</td>\n",
       "      <td>B</td>\n",
       "      <td>B5</td>\n",
       "      <td>Credit analyst</td>\n",
       "      <td>4 years</td>\n",
       "      <td>MORTGAGE</td>\n",
       "      <td>65000.0</td>\n",
       "      <td>...</td>\n",
       "      <td>17.0</td>\n",
       "      <td>0.0</td>\n",
       "      <td>20131.0</td>\n",
       "      <td>53.3</td>\n",
       "      <td>27.0</td>\n",
       "      <td>f</td>\n",
       "      <td>INDIVIDUAL</td>\n",
       "      <td>3.0</td>\n",
       "      <td>0.0</td>\n",
       "      <td>1076 Carney Fort Apt. 347\\nLoganmouth, SD 05113</td>\n",
       "    </tr>\n",
       "    <tr>\n",
       "      <th>2</th>\n",
       "      <td>15600.0</td>\n",
       "      <td>36 months</td>\n",
       "      <td>10.49</td>\n",
       "      <td>506.97</td>\n",
       "      <td>B</td>\n",
       "      <td>B3</td>\n",
       "      <td>Statistician</td>\n",
       "      <td>&lt; 1 year</td>\n",
       "      <td>RENT</td>\n",
       "      <td>43057.0</td>\n",
       "      <td>...</td>\n",
       "      <td>13.0</td>\n",
       "      <td>0.0</td>\n",
       "      <td>11987.0</td>\n",
       "      <td>92.2</td>\n",
       "      <td>26.0</td>\n",
       "      <td>f</td>\n",
       "      <td>INDIVIDUAL</td>\n",
       "      <td>0.0</td>\n",
       "      <td>0.0</td>\n",
       "      <td>87025 Mark Dale Apt. 269\\nNew Sabrina, WV 05113</td>\n",
       "    </tr>\n",
       "    <tr>\n",
       "      <th>3</th>\n",
       "      <td>7200.0</td>\n",
       "      <td>36 months</td>\n",
       "      <td>6.49</td>\n",
       "      <td>220.65</td>\n",
       "      <td>A</td>\n",
       "      <td>A2</td>\n",
       "      <td>Client Advocate</td>\n",
       "      <td>6 years</td>\n",
       "      <td>RENT</td>\n",
       "      <td>54000.0</td>\n",
       "      <td>...</td>\n",
       "      <td>6.0</td>\n",
       "      <td>0.0</td>\n",
       "      <td>5472.0</td>\n",
       "      <td>21.5</td>\n",
       "      <td>13.0</td>\n",
       "      <td>f</td>\n",
       "      <td>INDIVIDUAL</td>\n",
       "      <td>0.0</td>\n",
       "      <td>0.0</td>\n",
       "      <td>823 Reid Ford\\nDelacruzside, MA 00813</td>\n",
       "    </tr>\n",
       "    <tr>\n",
       "      <th>4</th>\n",
       "      <td>24375.0</td>\n",
       "      <td>60 months</td>\n",
       "      <td>17.27</td>\n",
       "      <td>609.33</td>\n",
       "      <td>C</td>\n",
       "      <td>C5</td>\n",
       "      <td>Destiny Management Inc.</td>\n",
       "      <td>9 years</td>\n",
       "      <td>MORTGAGE</td>\n",
       "      <td>55000.0</td>\n",
       "      <td>...</td>\n",
       "      <td>13.0</td>\n",
       "      <td>0.0</td>\n",
       "      <td>24584.0</td>\n",
       "      <td>69.8</td>\n",
       "      <td>43.0</td>\n",
       "      <td>f</td>\n",
       "      <td>INDIVIDUAL</td>\n",
       "      <td>1.0</td>\n",
       "      <td>0.0</td>\n",
       "      <td>679 Luna Roads\\nGreggshire, VA 11650</td>\n",
       "    </tr>\n",
       "  </tbody>\n",
       "</table>\n",
       "<p>5 rows × 27 columns</p>\n",
       "</div>"
      ],
      "text/plain": [
       "   loan_amnt        term  int_rate  installment grade sub_grade  \\\n",
       "0    10000.0   36 months     11.44       329.48     B        B4   \n",
       "1     8000.0   36 months     11.99       265.68     B        B5   \n",
       "2    15600.0   36 months     10.49       506.97     B        B3   \n",
       "3     7200.0   36 months      6.49       220.65     A        A2   \n",
       "4    24375.0   60 months     17.27       609.33     C        C5   \n",
       "\n",
       "                 emp_title emp_length home_ownership  annual_inc  ...  \\\n",
       "0                Marketing  10+ years           RENT    117000.0  ...   \n",
       "1          Credit analyst     4 years       MORTGAGE     65000.0  ...   \n",
       "2             Statistician   < 1 year           RENT     43057.0  ...   \n",
       "3          Client Advocate    6 years           RENT     54000.0  ...   \n",
       "4  Destiny Management Inc.    9 years       MORTGAGE     55000.0  ...   \n",
       "\n",
       "  open_acc pub_rec revol_bal revol_util total_acc  initial_list_status  \\\n",
       "0     16.0     0.0   36369.0       41.8      25.0                    w   \n",
       "1     17.0     0.0   20131.0       53.3      27.0                    f   \n",
       "2     13.0     0.0   11987.0       92.2      26.0                    f   \n",
       "3      6.0     0.0    5472.0       21.5      13.0                    f   \n",
       "4     13.0     0.0   24584.0       69.8      43.0                    f   \n",
       "\n",
       "  application_type  mort_acc  pub_rec_bankruptcies  \\\n",
       "0       INDIVIDUAL       0.0                   0.0   \n",
       "1       INDIVIDUAL       3.0                   0.0   \n",
       "2       INDIVIDUAL       0.0                   0.0   \n",
       "3       INDIVIDUAL       0.0                   0.0   \n",
       "4       INDIVIDUAL       1.0                   0.0   \n",
       "\n",
       "                                           address  \n",
       "0     0174 Michelle Gateway\\nMendozaberg, OK 22690  \n",
       "1  1076 Carney Fort Apt. 347\\nLoganmouth, SD 05113  \n",
       "2  87025 Mark Dale Apt. 269\\nNew Sabrina, WV 05113  \n",
       "3            823 Reid Ford\\nDelacruzside, MA 00813  \n",
       "4             679 Luna Roads\\nGreggshire, VA 11650  \n",
       "\n",
       "[5 rows x 27 columns]"
      ]
     },
     "execution_count": 7,
     "metadata": {},
     "output_type": "execute_result"
    }
   ],
   "source": [
    "df.head()"
   ]
  },
  {
   "cell_type": "code",
   "execution_count": 8,
   "metadata": {},
   "outputs": [
    {
     "data": {
      "text/plain": [
       "'Number of mortgage accounts.'"
      ]
     },
     "execution_count": 8,
     "metadata": {},
     "output_type": "execute_result"
    }
   ],
   "source": [
    "get_info('mort_acc')"
   ]
  },
  {
   "cell_type": "code",
   "execution_count": 9,
   "metadata": {},
   "outputs": [],
   "source": [
    "df['Fully Paid'] = pd.get_dummies(df['loan_status'])['Fully Paid']"
   ]
  },
  {
   "cell_type": "code",
   "execution_count": 10,
   "metadata": {},
   "outputs": [
    {
     "data": {
      "text/plain": [
       "<matplotlib.axes._subplots.AxesSubplot at 0x7ff8b986b850>"
      ]
     },
     "execution_count": 10,
     "metadata": {},
     "output_type": "execute_result"
    },
    {
     "data": {
      "image/png": "[encoded data removed]",
      "text/plain": [
       "<Figure size 432x288 with 1 Axes>"
      ]
     },
     "metadata": {
      "needs_background": "light"
     },
     "output_type": "display_data"
    }
   ],
   "source": [
    "sns.countplot(df['loan_status'])"
   ]
  },
  {
   "cell_type": "code",
   "execution_count": 11,
   "metadata": {},
   "outputs": [
    {
     "data": {
      "text/plain": [
       "'The monthly payment owed by the borrower if the loan originates.'"
      ]
     },
     "execution_count": 11,
     "metadata": {},
     "output_type": "execute_result"
    }
   ],
   "source": [
    "get_info('installment')"
   ]
  },
  {
   "cell_type": "code",
   "execution_count": 12,
   "metadata": {},
   "outputs": [
    {
     "data": {
      "text/plain": [
       "<matplotlib.axes._subplots.AxesSubplot at 0x7ff8a2a77a60>"
      ]
     },
     "execution_count": 12,
     "metadata": {},
     "output_type": "execute_result"
    },
    {
     "data": {
      "image/png": "[encoded data removed]",
      "text/plain": [
       "<Figure size 432x288 with 1 Axes>"
      ]
     },
     "metadata": {
      "needs_background": "light"
     },
     "output_type": "display_data"
    }
   ],
   "source": [
    "sns.boxplot(x='loan_status',y='loan_amnt',data=df)"
   ]
  },
  {
   "cell_type": "code",
   "execution_count": 13,
   "metadata": {
    "tags": []
   },
   "outputs": [
    {
     "name": "stdout",
     "output_type": "stream",
     "text": [
      "<class 'pandas.core.frame.DataFrame'>\n",
      "RangeIndex: 396030 entries, 0 to 396029\n",
      "Data columns (total 28 columns):\n",
      " #   Column                Non-Null Count   Dtype  \n",
      "---  ------                --------------   -----  \n",
      " 0   loan_amnt             396030 non-null  float64\n",
      " 1   term                  396030 non-null  object \n",
      " 2   int_rate              396030 non-null  float64\n",
      " 3   installment           396030 non-null  float64\n",
      " 4   grade                 396030 non-null  object \n",
      " 5   sub_grade             396030 non-null  object \n",
      " 6   emp_title             373103 non-null  object \n",
      " 7   emp_length            377729 non-null  object \n",
      " 8   home_ownership        396030 non-null  object \n",
      " 9   annual_inc            396030 non-null  float64\n",
      " 10  verification_status   396030 non-null  object \n",
      " 11  issue_d               396030 non-null  object \n",
      " 12  loan_status           396030 non-null  object \n",
      " 13  purpose               396030 non-null  object \n",
      " 14  title                 394275 non-null  object \n",
      " 15  dti                   396030 non-null  float64\n",
      " 16  earliest_cr_line      396030 non-null  object \n",
      " 17  open_acc              396030 non-null  float64\n",
      " 18  pub_rec               396030 non-null  float64\n",
      " 19  revol_bal             396030 non-null  float64\n",
      " 20  revol_util            395754 non-null  float64\n",
      " 21  total_acc             396030 non-null  float64\n",
      " 22  initial_list_status   396030 non-null  object \n",
      " 23  application_type      396030 non-null  object \n",
      " 24  mort_acc              358235 non-null  float64\n",
      " 25  pub_rec_bankruptcies  395495 non-null  float64\n",
      " 26  address               396030 non-null  object \n",
      " 27  Fully Paid            396030 non-null  uint8  \n",
      "dtypes: float64(12), object(15), uint8(1)\n",
      "memory usage: 82.0+ MB\n"
     ]
    }
   ],
   "source": [
    "df.info()"
   ]
  },
  {
   "cell_type": "code",
   "execution_count": 14,
   "metadata": {},
   "outputs": [
    {
     "data": {
      "text/plain": [
       "grade\n",
       "G    0.521611\n",
       "F    0.572120\n",
       "E    0.626366\n",
       "D    0.711322\n",
       "C    0.788191\n",
       "B    0.874270\n",
       "A    0.937121\n",
       "Name: Fully Paid, dtype: float64"
      ]
     },
     "execution_count": 14,
     "metadata": {},
     "output_type": "execute_result"
    }
   ],
   "source": [
    "df.groupby('grade')['Fully Paid'].mean().sort_values()"
   ]
  },
  {
   "cell_type": "code",
   "execution_count": 15,
   "metadata": {},
   "outputs": [
    {
     "data": {
      "text/plain": [
       "'A ratio calculated using the borrower’s total monthly debt payments on the total debt obligations, excluding mortgage and the requested LC loan, divided by the borrower’s self-reported monthly income.'"
      ]
     },
     "execution_count": 15,
     "metadata": {},
     "output_type": "execute_result"
    }
   ],
   "source": [
    "get_info('dti')"
   ]
  },
  {
   "cell_type": "code",
   "execution_count": 16,
   "metadata": {},
   "outputs": [],
   "source": [
    "df['36 months'] = pd.get_dummies(df['term'], drop_first=True)"
   ]
  },
  {
   "cell_type": "code",
   "execution_count": 17,
   "metadata": {},
   "outputs": [
    {
     "name": "stdout",
     "output_type": "stream",
     "text": [
      "<class 'pandas.core.frame.DataFrame'>\n",
      "RangeIndex: 396030 entries, 0 to 396029\n",
      "Data columns (total 29 columns):\n",
      " #   Column                Non-Null Count   Dtype  \n",
      "---  ------                --------------   -----  \n",
      " 0   loan_amnt             396030 non-null  float64\n",
      " 1   term                  396030 non-null  object \n",
      " 2   int_rate              396030 non-null  float64\n",
      " 3   installment           396030 non-null  float64\n",
      " 4   grade                 396030 non-null  object \n",
      " 5   sub_grade             396030 non-null  object \n",
      " 6   emp_title             373103 non-null  object \n",
      " 7   emp_length            377729 non-null  object \n",
      " 8   home_ownership        396030 non-null  object \n",
      " 9   annual_inc            396030 non-null  float64\n",
      " 10  verification_status   396030 non-null  object \n",
      " 11  issue_d               396030 non-null  object \n",
      " 12  loan_status           396030 non-null  object \n",
      " 13  purpose               396030 non-null  object \n",
      " 14  title                 394275 non-null  object \n",
      " 15  dti                   396030 non-null  float64\n",
      " 16  earliest_cr_line      396030 non-null  object \n",
      " 17  open_acc              396030 non-null  float64\n",
      " 18  pub_rec               396030 non-null  float64\n",
      " 19  revol_bal             396030 non-null  float64\n",
      " 20  revol_util            395754 non-null  float64\n",
      " 21  total_acc             396030 non-null  float64\n",
      " 22  initial_list_status   396030 non-null  object \n",
      " 23  application_type      396030 non-null  object \n",
      " 24  mort_acc              358235 non-null  float64\n",
      " 25  pub_rec_bankruptcies  395495 non-null  float64\n",
      " 26  address               396030 non-null  object \n",
      " 27  Fully Paid            396030 non-null  uint8  \n",
      " 28  36 months             396030 non-null  uint8  \n",
      "dtypes: float64(12), object(15), uint8(2)\n",
      "memory usage: 82.3+ MB\n"
     ]
    }
   ],
   "source": [
    "df.info()"
   ]
  },
  {
   "cell_type": "code",
   "execution_count": 18,
   "metadata": {},
   "outputs": [],
   "source": [
    "df['paid'] = df['Fully Paid']\n",
    "df.drop('Fully Paid', axis = 1, inplace = True)"
   ]
  },
  {
   "cell_type": "code",
   "execution_count": 19,
   "metadata": {},
   "outputs": [
    {
     "data": {
      "text/plain": [
       "INDIVIDUAL    395319\n",
       "JOINT            425\n",
       "DIRECT_PAY       286\n",
       "Name: application_type, dtype: int64"
      ]
     },
     "execution_count": 19,
     "metadata": {},
     "output_type": "execute_result"
    }
   ],
   "source": [
    "df['application_type'].value_counts()"
   ]
  },
  {
   "cell_type": "code",
   "execution_count": 20,
   "metadata": {},
   "outputs": [
    {
     "data": {
      "text/plain": [
       "f    238066\n",
       "w    157964\n",
       "Name: initial_list_status, dtype: int64"
      ]
     },
     "execution_count": 20,
     "metadata": {},
     "output_type": "execute_result"
    }
   ],
   "source": [
    "df['initial_list_status'].value_counts()"
   ]
  },
  {
   "cell_type": "code",
   "execution_count": 21,
   "metadata": {},
   "outputs": [],
   "source": [
    "df['year'] = df['issue_d'].apply(lambda month: int(month.split('-')[1]))"
   ]
  },
  {
   "cell_type": "code",
   "execution_count": 22,
   "metadata": {},
   "outputs": [
    {
     "data": {
      "text/plain": [
       "<matplotlib.axes._subplots.AxesSubplot at 0x7ff8a2c7c580>"
      ]
     },
     "execution_count": 22,
     "metadata": {},
     "output_type": "execute_result"
    },
    {
     "data": {
      "image/png": "[encoded data removed]",
      "text/plain": [
       "<Figure size 432x288 with 1 Axes>"
      ]
     },
     "metadata": {
      "needs_background": "light"
     },
     "output_type": "display_data"
    }
   ],
   "source": [
    "sns.distplot(df['dti'])"
   ]
  },
  {
   "cell_type": "code",
   "execution_count": 23,
   "metadata": {},
   "outputs": [
    {
     "data": {
      "text/plain": [
       "issue_d\n",
       "Mar-2015    0.731976\n",
       "Jun-2015    0.732174\n",
       "May-2015    0.735616\n",
       "Apr-2015    0.736536\n",
       "Feb-2015    0.744803\n",
       "              ...   \n",
       "Oct-2016    0.997655\n",
       "Nov-2016    1.000000\n",
       "Jul-2007    1.000000\n",
       "Dec-2016    1.000000\n",
       "Jun-2007    1.000000\n",
       "Name: paid, Length: 115, dtype: float64"
      ]
     },
     "execution_count": 23,
     "metadata": {},
     "output_type": "execute_result"
    }
   ],
   "source": [
    "df.groupby('issue_d')['paid'].mean().sort_values()"
   ]
  },
  {
   "cell_type": "code",
   "execution_count": 31,
   "metadata": {},
   "outputs": [],
   "source": [
    "df = pd.concat([df, pd.get_dummies(df['grade'], drop_first=True)], axis = 1)"
   ]
  },
  {
   "cell_type": "code",
   "execution_count": null,
   "metadata": {},
   "outputs": [],
   "source": [
    "#sns.boxplot(x='annual_inc',y='loan_amnt',data=df)"
   ]
  },
  {
   "cell_type": "code",
   "execution_count": 25,
   "metadata": {},
   "outputs": [],
   "source": [
    "df.drop(['pub_rec', 'application_type', 'address', 'initial_list_status', 'sub_grade', 'emp_title', 'home_ownership',\n",
    "        'term'], inplace = True, axis = 1)"
   ]
  },
  {
   "cell_type": "code",
   "execution_count": 35,
   "metadata": {},
   "outputs": [
    {
     "name": "stdout",
     "output_type": "stream",
     "text": [
      "<class 'pandas.core.frame.DataFrame'>\n",
      "RangeIndex: 396030 entries, 0 to 396029\n",
      "Data columns (total 30 columns):\n",
      " #   Column                Non-Null Count   Dtype  \n",
      "---  ------                --------------   -----  \n",
      " 0   loan_amnt             396030 non-null  float64\n",
      " 1   int_rate              396030 non-null  float64\n",
      " 2   installment           396030 non-null  float64\n",
      " 3   annual_inc            396030 non-null  float64\n",
      " 4   dti                   396030 non-null  float64\n",
      " 5   open_acc              396030 non-null  float64\n",
      " 6   revol_bal             396030 non-null  float64\n",
      " 7   revol_util            395754 non-null  float64\n",
      " 8   total_acc             396030 non-null  float64\n",
      " 9   mort_acc              358235 non-null  float64\n",
      " 10  pub_rec_bankruptcies  395495 non-null  float64\n",
      " 11  36 months             396030 non-null  uint8  \n",
      " 12  paid                  396030 non-null  uint8  \n",
      " 13  year                  396030 non-null  int64  \n",
      " 14  B                     396030 non-null  uint8  \n",
      " 15  C                     396030 non-null  uint8  \n",
      " 16  D                     396030 non-null  uint8  \n",
      " 17  E                     396030 non-null  uint8  \n",
      " 18  F                     396030 non-null  uint8  \n",
      " 19  G                     396030 non-null  uint8  \n",
      " 20  10+ years             396030 non-null  uint8  \n",
      " 21  2 years               396030 non-null  uint8  \n",
      " 22  3 years               396030 non-null  uint8  \n",
      " 23  4 years               396030 non-null  uint8  \n",
      " 24  5 years               396030 non-null  uint8  \n",
      " 25  6 years               396030 non-null  uint8  \n",
      " 26  7 years               396030 non-null  uint8  \n",
      " 27  8 years               396030 non-null  uint8  \n",
      " 28  9 years               396030 non-null  uint8  \n",
      " 29  < 1 year              396030 non-null  uint8  \n",
      "dtypes: float64(11), int64(1), uint8(18)\n",
      "memory usage: 43.1 MB\n"
     ]
    }
   ],
   "source": [
    "df.info()"
   ]
  },
  {
   "cell_type": "code",
   "execution_count": 32,
   "metadata": {},
   "outputs": [],
   "source": [
    "df = pd.concat([df, pd.get_dummies(df['emp_length'], drop_first=True)], axis = 1)"
   ]
  },
  {
   "cell_type": "code",
   "execution_count": 34,
   "metadata": {},
   "outputs": [],
   "source": [
    "df.drop(['verification_status', 'issue_d', 'loan_status', 'title', 'grade', 'emp_length', 'purpose', 'earliest_cr_line'], axis = 1, inplace = True)"
   ]
  },
  {
   "cell_type": "code",
   "execution_count": 58,
   "metadata": {},
   "outputs": [
    {
     "name": "stdout",
     "output_type": "stream",
     "text": [
      "<class 'pandas.core.frame.DataFrame'>\n",
      "RangeIndex: 396030 entries, 0 to 396029\n",
      "Data columns (total 28 columns):\n",
      " #   Column       Non-Null Count   Dtype  \n",
      "---  ------       --------------   -----  \n",
      " 0   loan_amnt    396030 non-null  float64\n",
      " 1   int_rate     396030 non-null  float64\n",
      " 2   installment  396030 non-null  float64\n",
      " 3   annual_inc   396030 non-null  float64\n",
      " 4   dti          396030 non-null  float64\n",
      " 5   open_acc     396030 non-null  float64\n",
      " 6   revol_bal    396030 non-null  float64\n",
      " 7   revol_util   395754 non-null  float64\n",
      " 8   total_acc    396030 non-null  float64\n",
      " 9   36 months    396030 non-null  uint8  \n",
      " 10  paid         396030 non-null  uint8  \n",
      " 11  year         396030 non-null  int64  \n",
      " 12  B            396030 non-null  uint8  \n",
      " 13  C            396030 non-null  uint8  \n",
      " 14  D            396030 non-null  uint8  \n",
      " 15  E            396030 non-null  uint8  \n",
      " 16  F            396030 non-null  uint8  \n",
      " 17  G            396030 non-null  uint8  \n",
      " 18  10+ years    396030 non-null  uint8  \n",
      " 19  2 years      396030 non-null  uint8  \n",
      " 20  3 years      396030 non-null  uint8  \n",
      " 21  4 years      396030 non-null  uint8  \n",
      " 22  5 years      396030 non-null  uint8  \n",
      " 23  6 years      396030 non-null  uint8  \n",
      " 24  7 years      396030 non-null  uint8  \n",
      " 25  8 years      396030 non-null  uint8  \n",
      " 26  9 years      396030 non-null  uint8  \n",
      " 27  < 1 year     396030 non-null  uint8  \n",
      "dtypes: float64(9), int64(1), uint8(18)\n",
      "memory usage: 37.0 MB\n"
     ]
    }
   ],
   "source": [
    "df.info()"
   ]
  },
  {
   "cell_type": "code",
   "execution_count": 62,
   "metadata": {},
   "outputs": [],
   "source": [
    "df.drop('revol_util', axis = 1, inplace = True)"
   ]
  },
  {
   "cell_type": "code",
   "execution_count": 64,
   "metadata": {},
   "outputs": [],
   "source": [
    "from sklearn.preprocessing import MinMaxScaler"
   ]
  },
  {
   "cell_type": "code",
   "execution_count": 65,
   "metadata": {},
   "outputs": [],
   "source": [
    "X = df.drop('paid', axis = 1).values\n",
    "y = df['paid'].values\n",
    "X_train, X_test, y_train, y_test = train_test_split(X, y, test_size = 0.3)"
   ]
  },
  {
   "cell_type": "code",
   "execution_count": 66,
   "metadata": {},
   "outputs": [],
   "source": [
    "scaler = MinMaxScaler()\n",
    "X_train = scaler.fit_transform(X_train)\n",
    "X_test = scaler.transform(X_test)"
   ]
  },
  {
   "cell_type": "code",
   "execution_count": 67,
   "metadata": {},
   "outputs": [],
   "source": [
    "from tensorflow.keras.models import Sequential\n",
    "from tensorflow.keras.layers import Dense, Dropout\n",
    "from tensorflow.keras.callbacks import EarlyStopping"
   ]
  },
  {
   "cell_type": "code",
   "execution_count": 70,
   "metadata": {},
   "outputs": [
    {
     "data": {
      "text/plain": [
       "(277221, 26)"
      ]
     },
     "execution_count": 70,
     "metadata": {},
     "output_type": "execute_result"
    }
   ],
   "source": [
    "X_train.shape"
   ]
  },
  {
   "cell_type": "code",
   "execution_count": 69,
   "metadata": {},
   "outputs": [],
   "source": [
    "early_stop = EarlyStopping(monitor='val_loss', mode='min', verbose=1, patience=20)"
   ]
  },
  {
   "cell_type": "code",
   "execution_count": 71,
   "metadata": {},
   "outputs": [],
   "source": [
    "model = Sequential()\n",
    "\n",
    "model.add(Dense(26, activation = 'relu'))\n",
    "model.add(Dropout(0.4))\n",
    "\n",
    "model.add(Dense(13, activation = 'relu'))\n",
    "model.add(Dropout(0.4))\n",
    "\n",
    "model.add(Dense(1, activation = 'sigmoid'))\n",
    "\n",
    "model.compile(loss = 'binary_crossentropy', optimizer = 'adam')"
   ]
  },
  {
   "cell_type": "code",
   "execution_count": 72,
   "metadata": {},
   "outputs": [
    {
     "name": "stdout",
     "output_type": "stream",
     "text": [
      "Epoch 1/700\n",
      "2166/2166 [==============================] - 4s 2ms/step - loss: 0.4939 - val_loss: 0.4604\n",
      "Epoch 2/700\n",
      "2166/2166 [==============================] - 3s 2ms/step - loss: 0.4679 - val_loss: 0.4594\n",
      "Epoch 3/700\n",
      "2166/2166 [==============================] - 3s 2ms/step - loss: 0.4647 - val_loss: 0.4578\n",
      "Epoch 4/700\n",
      "2166/2166 [==============================] - 4s 2ms/step - loss: 0.4627 - val_loss: 0.4572\n",
      "Epoch 5/700\n",
      "2166/2166 [==============================] - 4s 2ms/step - loss: 0.4620 - val_loss: 0.4568\n",
      "Epoch 6/700\n",
      "2166/2166 [==============================] - 3s 2ms/step - loss: 0.4611 - val_loss: 0.4563\n",
      "Epoch 7/700\n",
      "2166/2166 [==============================] - 4s 2ms/step - loss: 0.4610 - val_loss: 0.4557\n",
      "Epoch 8/700\n",
      "2166/2166 [==============================] - 3s 2ms/step - loss: 0.4607 - val_loss: 0.4562\n",
      "Epoch 9/700\n",
      "2166/2166 [==============================] - 4s 2ms/step - loss: 0.4604 - val_loss: 0.4560\n",
      "Epoch 10/700\n",
      "2166/2166 [==============================] - 3s 2ms/step - loss: 0.4600 - val_loss: 0.4548\n",
      "Epoch 11/700\n",
      "2166/2166 [==============================] - 3s 2ms/step - loss: 0.4597 - val_loss: 0.4552\n",
      "Epoch 12/700\n",
      "2166/2166 [==============================] - 3s 2ms/step - loss: 0.4596 - val_loss: 0.4544\n",
      "Epoch 13/700\n",
      "2166/2166 [==============================] - 3s 2ms/step - loss: 0.4598 - val_loss: 0.4545\n",
      "Epoch 14/700\n",
      "2166/2166 [==============================] - 3s 2ms/step - loss: 0.4594 - val_loss: 0.4544\n",
      "Epoch 15/700\n",
      "2166/2166 [==============================] - 3s 2ms/step - loss: 0.4587 - val_loss: 0.4541\n",
      "Epoch 16/700\n",
      "2166/2166 [==============================] - 3s 2ms/step - loss: 0.4590 - val_loss: 0.4539\n",
      "Epoch 17/700\n",
      "2166/2166 [==============================] - 4s 2ms/step - loss: 0.4588 - val_loss: 0.4536\n",
      "Epoch 18/700\n",
      "2166/2166 [==============================] - 4s 2ms/step - loss: 0.4590 - val_loss: 0.4534\n",
      "Epoch 19/700\n",
      "2166/2166 [==============================] - 4s 2ms/step - loss: 0.4589 - val_loss: 0.4538\n",
      "Epoch 20/700\n",
      "2166/2166 [==============================] - 4s 2ms/step - loss: 0.4590 - val_loss: 0.4536\n",
      "Epoch 21/700\n",
      "2166/2166 [==============================] - 4s 2ms/step - loss: 0.4584 - val_loss: 0.4530\n",
      "Epoch 22/700\n",
      "2166/2166 [==============================] - 4s 2ms/step - loss: 0.4586 - val_loss: 0.4530\n",
      "Epoch 23/700\n",
      "2166/2166 [==============================] - 4s 2ms/step - loss: 0.4586 - val_loss: 0.4528\n",
      "Epoch 24/700\n",
      "2166/2166 [==============================] - 3s 2ms/step - loss: 0.4582 - val_loss: 0.4531\n",
      "Epoch 25/700\n",
      "2166/2166 [==============================] - 3s 2ms/step - loss: 0.4581 - val_loss: 0.4528\n",
      "Epoch 26/700\n",
      "2166/2166 [==============================] - 4s 2ms/step - loss: 0.4581 - val_loss: 0.4532\n",
      "Epoch 27/700\n",
      "2166/2166 [==============================] - 4s 2ms/step - loss: 0.4579 - val_loss: 0.4528\n",
      "Epoch 28/700\n",
      "2166/2166 [==============================] - 4s 2ms/step - loss: 0.4582 - val_loss: 0.4523\n",
      "Epoch 29/700\n",
      "2166/2166 [==============================] - 3s 2ms/step - loss: 0.4577 - val_loss: 0.4529\n",
      "Epoch 30/700\n",
      "2166/2166 [==============================] - 4s 2ms/step - loss: 0.4579 - val_loss: 0.4531\n",
      "Epoch 31/700\n",
      "2166/2166 [==============================] - 4s 2ms/step - loss: 0.4577 - val_loss: 0.4526\n",
      "Epoch 32/700\n",
      "2166/2166 [==============================] - 4s 2ms/step - loss: 0.4575 - val_loss: 0.4526\n",
      "Epoch 33/700\n",
      "2166/2166 [==============================] - 4s 2ms/step - loss: 0.4576 - val_loss: 0.4523\n",
      "Epoch 34/700\n",
      "2166/2166 [==============================] - 4s 2ms/step - loss: 0.4573 - val_loss: 0.4525\n",
      "Epoch 35/700\n",
      "2166/2166 [==============================] - 4s 2ms/step - loss: 0.4574 - val_loss: 0.4519\n",
      "Epoch 36/700\n",
      "2166/2166 [==============================] - 3s 2ms/step - loss: 0.4574 - val_loss: 0.4522\n",
      "Epoch 37/700\n",
      "2166/2166 [==============================] - 4s 2ms/step - loss: 0.4575 - val_loss: 0.4517\n",
      "Epoch 38/700\n",
      "2166/2166 [==============================] - 3s 2ms/step - loss: 0.4575 - val_loss: 0.4514\n",
      "Epoch 39/700\n",
      "2166/2166 [==============================] - 4s 2ms/step - loss: 0.4568 - val_loss: 0.4515\n",
      "Epoch 40/700\n",
      "2166/2166 [==============================] - 4s 2ms/step - loss: 0.4572 - val_loss: 0.4520\n",
      "Epoch 41/700\n",
      "2166/2166 [==============================] - 4s 2ms/step - loss: 0.4570 - val_loss: 0.4510\n",
      "Epoch 42/700\n",
      "2166/2166 [==============================] - 3s 2ms/step - loss: 0.4570 - val_loss: 0.4521\n",
      "Epoch 43/700\n",
      "2166/2166 [==============================] - 4s 2ms/step - loss: 0.4571 - val_loss: 0.4516\n",
      "Epoch 44/700\n",
      "2166/2166 [==============================] - 3s 2ms/step - loss: 0.4570 - val_loss: 0.4510\n",
      "Epoch 45/700\n",
      "2166/2166 [==============================] - 4s 2ms/step - loss: 0.4570 - val_loss: 0.4515\n",
      "Epoch 46/700\n",
      "2166/2166 [==============================] - 3s 2ms/step - loss: 0.4566 - val_loss: 0.4525\n",
      "Epoch 47/700\n",
      "2166/2166 [==============================] - 4s 2ms/step - loss: 0.4567 - val_loss: 0.4508\n",
      "Epoch 48/700\n",
      "2166/2166 [==============================] - 4s 2ms/step - loss: 0.4566 - val_loss: 0.4515\n",
      "Epoch 49/700\n",
      "2166/2166 [==============================] - 4s 2ms/step - loss: 0.4561 - val_loss: 0.4516\n",
      "Epoch 50/700\n",
      "2166/2166 [==============================] - 4s 2ms/step - loss: 0.4564 - val_loss: 0.4508\n",
      "Epoch 51/700\n",
      "2166/2166 [==============================] - 4s 2ms/step - loss: 0.4568 - val_loss: 0.4512\n",
      "Epoch 52/700\n",
      "2166/2166 [==============================] - 4s 2ms/step - loss: 0.4564 - val_loss: 0.4511\n",
      "Epoch 53/700\n",
      "2166/2166 [==============================] - 4s 2ms/step - loss: 0.4564 - val_loss: 0.4506\n",
      "Epoch 54/700\n",
      "2166/2166 [==============================] - 4s 2ms/step - loss: 0.4563 - val_loss: 0.4511\n",
      "Epoch 55/700\n",
      "2166/2166 [==============================] - 4s 2ms/step - loss: 0.4562 - val_loss: 0.4511\n",
      "Epoch 56/700\n",
      "2166/2166 [==============================] - 5s 2ms/step - loss: 0.4564 - val_loss: 0.4508\n",
      "Epoch 57/700\n",
      "2166/2166 [==============================] - 4s 2ms/step - loss: 0.4560 - val_loss: 0.4506\n",
      "Epoch 58/700\n",
      "2166/2166 [==============================] - 4s 2ms/step - loss: 0.4563 - val_loss: 0.4506\n",
      "Epoch 59/700\n",
      "2166/2166 [==============================] - 4s 2ms/step - loss: 0.4563 - val_loss: 0.4504\n",
      "Epoch 60/700\n",
      "2166/2166 [==============================] - 4s 2ms/step - loss: 0.4559 - val_loss: 0.4500\n",
      "Epoch 61/700\n",
      "2166/2166 [==============================] - 4s 2ms/step - loss: 0.4562 - val_loss: 0.4502\n",
      "Epoch 62/700\n",
      "2166/2166 [==============================] - 4s 2ms/step - loss: 0.4563 - val_loss: 0.4503\n",
      "Epoch 63/700\n",
      "2166/2166 [==============================] - 4s 2ms/step - loss: 0.4560 - val_loss: 0.4507\n",
      "Epoch 64/700\n",
      "2166/2166 [==============================] - 4s 2ms/step - loss: 0.4558 - val_loss: 0.4506\n",
      "Epoch 65/700\n",
      "2166/2166 [==============================] - 4s 2ms/step - loss: 0.4558 - val_loss: 0.4524\n",
      "Epoch 66/700\n",
      "2166/2166 [==============================] - 4s 2ms/step - loss: 0.4562 - val_loss: 0.4505\n",
      "Epoch 67/700\n",
      "2166/2166 [==============================] - 4s 2ms/step - loss: 0.4560 - val_loss: 0.4506\n",
      "Epoch 68/700\n",
      "2166/2166 [==============================] - 4s 2ms/step - loss: 0.4562 - val_loss: 0.4502\n",
      "Epoch 69/700\n",
      "2166/2166 [==============================] - 4s 2ms/step - loss: 0.4559 - val_loss: 0.4508\n",
      "Epoch 70/700\n",
      "2166/2166 [==============================] - 4s 2ms/step - loss: 0.4560 - val_loss: 0.4505\n",
      "Epoch 71/700\n",
      "2166/2166 [==============================] - 4s 2ms/step - loss: 0.4556 - val_loss: 0.4516\n",
      "Epoch 72/700\n",
      "2166/2166 [==============================] - 4s 2ms/step - loss: 0.4560 - val_loss: 0.4501\n",
      "Epoch 73/700\n",
      "2166/2166 [==============================] - 4s 2ms/step - loss: 0.4557 - val_loss: 0.4504\n",
      "Epoch 74/700\n",
      "2166/2166 [==============================] - 4s 2ms/step - loss: 0.4558 - val_loss: 0.4504\n",
      "Epoch 75/700\n",
      "2166/2166 [==============================] - 4s 2ms/step - loss: 0.4558 - val_loss: 0.4501\n",
      "Epoch 76/700\n",
      "2166/2166 [==============================] - 4s 2ms/step - loss: 0.4559 - val_loss: 0.4501\n",
      "Epoch 77/700\n",
      "2166/2166 [==============================] - 4s 2ms/step - loss: 0.4556 - val_loss: 0.4503\n",
      "Epoch 78/700\n",
      "2166/2166 [==============================] - 4s 2ms/step - loss: 0.4558 - val_loss: 0.4497\n",
      "Epoch 79/700\n",
      "2166/2166 [==============================] - 4s 2ms/step - loss: 0.4557 - val_loss: 0.4501\n"
     ]
    },
    {
     "name": "stdout",
     "output_type": "stream",
     "text": [
      "Epoch 80/700\n",
      "2166/2166 [==============================] - 3s 2ms/step - loss: 0.4560 - val_loss: 0.4506\n",
      "Epoch 81/700\n",
      "2166/2166 [==============================] - 3s 2ms/step - loss: 0.4557 - val_loss: 0.4498\n",
      "Epoch 82/700\n",
      "2166/2166 [==============================] - 3s 2ms/step - loss: 0.4557 - val_loss: 0.4501\n",
      "Epoch 83/700\n",
      "2166/2166 [==============================] - 3s 2ms/step - loss: 0.4554 - val_loss: 0.4503\n",
      "Epoch 84/700\n",
      "2166/2166 [==============================] - 3s 2ms/step - loss: 0.4555 - val_loss: 0.4495\n",
      "Epoch 85/700\n",
      "2166/2166 [==============================] - 3s 2ms/step - loss: 0.4557 - val_loss: 0.4502\n",
      "Epoch 86/700\n",
      "2166/2166 [==============================] - 3s 2ms/step - loss: 0.4555 - val_loss: 0.4506\n",
      "Epoch 87/700\n",
      "2166/2166 [==============================] - 3s 2ms/step - loss: 0.4561 - val_loss: 0.4505\n",
      "Epoch 88/700\n",
      "2166/2166 [==============================] - 4s 2ms/step - loss: 0.4562 - val_loss: 0.4509\n",
      "Epoch 89/700\n",
      "2166/2166 [==============================] - 4s 2ms/step - loss: 0.4556 - val_loss: 0.4506\n",
      "Epoch 90/700\n",
      "2166/2166 [==============================] - 4s 2ms/step - loss: 0.4556 - val_loss: 0.4497\n",
      "Epoch 91/700\n",
      "2166/2166 [==============================] - 4s 2ms/step - loss: 0.4553 - val_loss: 0.4498\n",
      "Epoch 92/700\n",
      "2166/2166 [==============================] - 4s 2ms/step - loss: 0.4557 - val_loss: 0.4501\n",
      "Epoch 93/700\n",
      "2166/2166 [==============================] - 4s 2ms/step - loss: 0.4556 - val_loss: 0.4496\n",
      "Epoch 94/700\n",
      "2166/2166 [==============================] - 4s 2ms/step - loss: 0.4557 - val_loss: 0.4497\n",
      "Epoch 95/700\n",
      "2166/2166 [==============================] - 4s 2ms/step - loss: 0.4551 - val_loss: 0.4499\n",
      "Epoch 96/700\n",
      "2166/2166 [==============================] - 4s 2ms/step - loss: 0.4556 - val_loss: 0.4498\n",
      "Epoch 97/700\n",
      "2166/2166 [==============================] - 4s 2ms/step - loss: 0.4553 - val_loss: 0.4503\n",
      "Epoch 98/700\n",
      "2166/2166 [==============================] - 4s 2ms/step - loss: 0.4552 - val_loss: 0.4497\n",
      "Epoch 99/700\n",
      "2166/2166 [==============================] - 4s 2ms/step - loss: 0.4558 - val_loss: 0.4501\n",
      "Epoch 100/700\n",
      "2166/2166 [==============================] - 4s 2ms/step - loss: 0.4554 - val_loss: 0.4497\n",
      "Epoch 101/700\n",
      "2166/2166 [==============================] - 4s 2ms/step - loss: 0.4554 - val_loss: 0.4497\n",
      "Epoch 102/700\n",
      "2166/2166 [==============================] - 4s 2ms/step - loss: 0.4554 - val_loss: 0.4491\n",
      "Epoch 103/700\n",
      "2166/2166 [==============================] - 4s 2ms/step - loss: 0.4551 - val_loss: 0.4497\n",
      "Epoch 104/700\n",
      "2166/2166 [==============================] - 4s 2ms/step - loss: 0.4555 - val_loss: 0.4489\n",
      "Epoch 105/700\n",
      "2166/2166 [==============================] - 4s 2ms/step - loss: 0.4551 - val_loss: 0.4491\n",
      "Epoch 106/700\n",
      "2166/2166 [==============================] - 4s 2ms/step - loss: 0.4554 - val_loss: 0.4500\n",
      "Epoch 107/700\n",
      "2166/2166 [==============================] - 4s 2ms/step - loss: 0.4555 - val_loss: 0.4493\n",
      "Epoch 108/700\n",
      "2166/2166 [==============================] - 5s 2ms/step - loss: 0.4553 - val_loss: 0.4497\n",
      "Epoch 109/700\n",
      "2166/2166 [==============================] - 7s 3ms/step - loss: 0.4554 - val_loss: 0.4493\n",
      "Epoch 110/700\n",
      "2166/2166 [==============================] - 7s 3ms/step - loss: 0.4553 - val_loss: 0.4497\n",
      "Epoch 111/700\n",
      "2166/2166 [==============================] - 5s 2ms/step - loss: 0.4552 - val_loss: 0.4496\n",
      "Epoch 112/700\n",
      "2166/2166 [==============================] - 4s 2ms/step - loss: 0.4551 - val_loss: 0.4494\n",
      "Epoch 113/700\n",
      "2166/2166 [==============================] - 4s 2ms/step - loss: 0.4552 - val_loss: 0.4497\n",
      "Epoch 114/700\n",
      "2166/2166 [==============================] - 6s 3ms/step - loss: 0.4550 - val_loss: 0.4502\n",
      "Epoch 115/700\n",
      "2166/2166 [==============================] - 5s 2ms/step - loss: 0.4555 - val_loss: 0.4491\n",
      "Epoch 116/700\n",
      "2166/2166 [==============================] - 4s 2ms/step - loss: 0.4551 - val_loss: 0.4496\n",
      "Epoch 117/700\n",
      "2166/2166 [==============================] - 4s 2ms/step - loss: 0.4551 - val_loss: 0.4492\n",
      "Epoch 118/700\n",
      "2166/2166 [==============================] - 4s 2ms/step - loss: 0.4552 - val_loss: 0.4491\n",
      "Epoch 119/700\n",
      "2166/2166 [==============================] - 4s 2ms/step - loss: 0.4553 - val_loss: 0.4501\n",
      "Epoch 120/700\n",
      "2166/2166 [==============================] - 4s 2ms/step - loss: 0.4557 - val_loss: 0.4497\n",
      "Epoch 121/700\n",
      "2166/2166 [==============================] - 3s 1ms/step - loss: 0.4551 - val_loss: 0.4486\n",
      "Epoch 122/700\n",
      "2166/2166 [==============================] - 3s 1ms/step - loss: 0.4549 - val_loss: 0.4499\n",
      "Epoch 123/700\n",
      "2166/2166 [==============================] - 3s 1ms/step - loss: 0.4552 - val_loss: 0.4495\n",
      "Epoch 124/700\n",
      "2166/2166 [==============================] - 3s 1ms/step - loss: 0.4552 - val_loss: 0.4497\n",
      "Epoch 125/700\n",
      "2166/2166 [==============================] - 3s 2ms/step - loss: 0.4551 - val_loss: 0.4492\n",
      "Epoch 126/700\n",
      "2166/2166 [==============================] - 3s 1ms/step - loss: 0.4552 - val_loss: 0.4493\n",
      "Epoch 127/700\n",
      "2166/2166 [==============================] - 4s 2ms/step - loss: 0.4547 - val_loss: 0.4492\n",
      "Epoch 128/700\n",
      "2166/2166 [==============================] - 4s 2ms/step - loss: 0.4550 - val_loss: 0.4495\n",
      "Epoch 129/700\n",
      "2166/2166 [==============================] - 4s 2ms/step - loss: 0.4549 - val_loss: 0.4496\n",
      "Epoch 130/700\n",
      "2166/2166 [==============================] - 5s 2ms/step - loss: 0.4553 - val_loss: 0.4507\n",
      "Epoch 131/700\n",
      "2166/2166 [==============================] - 4s 2ms/step - loss: 0.4552 - val_loss: 0.4495\n",
      "Epoch 132/700\n",
      "2166/2166 [==============================] - 3s 1ms/step - loss: 0.4548 - val_loss: 0.4487\n",
      "Epoch 133/700\n",
      "2166/2166 [==============================] - 4s 2ms/step - loss: 0.4546 - val_loss: 0.4494\n",
      "Epoch 134/700\n",
      "2166/2166 [==============================] - 4s 2ms/step - loss: 0.4555 - val_loss: 0.4493\n",
      "Epoch 135/700\n",
      "2166/2166 [==============================] - 4s 2ms/step - loss: 0.4550 - val_loss: 0.4496\n",
      "Epoch 136/700\n",
      "2166/2166 [==============================] - 4s 2ms/step - loss: 0.4550 - val_loss: 0.4498\n",
      "Epoch 137/700\n",
      "2166/2166 [==============================] - 4s 2ms/step - loss: 0.4552 - val_loss: 0.4494\n",
      "Epoch 138/700\n",
      "2166/2166 [==============================] - 5s 3ms/step - loss: 0.4551 - val_loss: 0.4491\n",
      "Epoch 139/700\n",
      "2166/2166 [==============================] - 5s 2ms/step - loss: 0.4551 - val_loss: 0.4495\n",
      "Epoch 140/700\n",
      "2166/2166 [==============================] - 5s 2ms/step - loss: 0.4550 - val_loss: 0.4494\n",
      "Epoch 141/700\n",
      "2166/2166 [==============================] - 4s 2ms/step - loss: 0.4549 - val_loss: 0.4486\n",
      "Epoch 142/700\n",
      "2166/2166 [==============================] - 4s 2ms/step - loss: 0.4545 - val_loss: 0.4494\n",
      "Epoch 143/700\n",
      "2166/2166 [==============================] - 4s 2ms/step - loss: 0.4545 - val_loss: 0.4490\n",
      "Epoch 144/700\n",
      "1980/2166 [==========================>...] - ETA: 0s - loss: 0.4545"
     ]
    },
    {
     "ename": "KeyboardInterrupt",
     "evalue": "",
     "output_type": "error",
     "traceback": [
      "\u001b[0;31m---------------------------------------------------------------------------\u001b[0m",
      "\u001b[0;31mKeyboardInterrupt\u001b[0m                         Traceback (most recent call last)",
      "\u001b[0;32m<ipython-input-72-2cc1734c27c8>\u001b[0m in \u001b[0;36m<module>\u001b[0;34m\u001b[0m\n\u001b[0;32m----> 1\u001b[0;31m \u001b[0mmodel\u001b[0m\u001b[0;34m.\u001b[0m\u001b[0mfit\u001b[0m\u001b[0;34m(\u001b[0m\u001b[0mx\u001b[0m\u001b[0;34m=\u001b[0m\u001b[0mX_train\u001b[0m\u001b[0;34m,\u001b[0m \u001b[0my\u001b[0m\u001b[0;34m=\u001b[0m\u001b[0my_train\u001b[0m\u001b[0;34m,\u001b[0m \u001b[0mepochs\u001b[0m \u001b[0;34m=\u001b[0m \u001b[0;36m700\u001b[0m\u001b[0;34m,\u001b[0m \u001b[0mbatch_size\u001b[0m \u001b[0;34m=\u001b[0m \u001b[0;36m128\u001b[0m\u001b[0;34m,\u001b[0m \u001b[0mvalidation_data\u001b[0m\u001b[0;34m=\u001b[0m\u001b[0;34m(\u001b[0m\u001b[0mX_test\u001b[0m\u001b[0;34m,\u001b[0m \u001b[0my_test\u001b[0m\u001b[0;34m)\u001b[0m\u001b[0;34m,\u001b[0m \u001b[0mverbose\u001b[0m \u001b[0;34m=\u001b[0m \u001b[0;36m1\u001b[0m\u001b[0;34m,\u001b[0m \u001b[0mcallbacks\u001b[0m \u001b[0;34m=\u001b[0m \u001b[0;34m[\u001b[0m\u001b[0mearly_stop\u001b[0m\u001b[0;34m]\u001b[0m\u001b[0;34m)\u001b[0m\u001b[0;34m\u001b[0m\u001b[0;34m\u001b[0m\u001b[0m\n\u001b[0m",
      "\u001b[0;32m~/opt/anaconda3/lib/python3.8/site-packages/tensorflow/python/keras/engine/training.py\u001b[0m in \u001b[0;36m_method_wrapper\u001b[0;34m(self, *args, **kwargs)\u001b[0m\n\u001b[1;32m    106\u001b[0m   \u001b[0;32mdef\u001b[0m \u001b[0m_method_wrapper\u001b[0m\u001b[0;34m(\u001b[0m\u001b[0mself\u001b[0m\u001b[0;34m,\u001b[0m \u001b[0;34m*\u001b[0m\u001b[0margs\u001b[0m\u001b[0;34m,\u001b[0m \u001b[0;34m**\u001b[0m\u001b[0mkwargs\u001b[0m\u001b[0;34m)\u001b[0m\u001b[0;34m:\u001b[0m\u001b[0;34m\u001b[0m\u001b[0;34m\u001b[0m\u001b[0m\n\u001b[1;32m    107\u001b[0m     \u001b[0;32mif\u001b[0m \u001b[0;32mnot\u001b[0m \u001b[0mself\u001b[0m\u001b[0;34m.\u001b[0m\u001b[0m_in_multi_worker_mode\u001b[0m\u001b[0;34m(\u001b[0m\u001b[0;34m)\u001b[0m\u001b[0;34m:\u001b[0m  \u001b[0;31m# pylint: disable=protected-access\u001b[0m\u001b[0;34m\u001b[0m\u001b[0;34m\u001b[0m\u001b[0m\n\u001b[0;32m--> 108\u001b[0;31m       \u001b[0;32mreturn\u001b[0m \u001b[0mmethod\u001b[0m\u001b[0;34m(\u001b[0m\u001b[0mself\u001b[0m\u001b[0;34m,\u001b[0m \u001b[0;34m*\u001b[0m\u001b[0margs\u001b[0m\u001b[0;34m,\u001b[0m \u001b[0;34m**\u001b[0m\u001b[0mkwargs\u001b[0m\u001b[0;34m)\u001b[0m\u001b[0;34m\u001b[0m\u001b[0;34m\u001b[0m\u001b[0m\n\u001b[0m\u001b[1;32m    109\u001b[0m \u001b[0;34m\u001b[0m\u001b[0m\n\u001b[1;32m    110\u001b[0m     \u001b[0;31m# Running inside `run_distribute_coordinator` already.\u001b[0m\u001b[0;34m\u001b[0m\u001b[0;34m\u001b[0m\u001b[0;34m\u001b[0m\u001b[0m\n",
      "\u001b[0;32m~/opt/anaconda3/lib/python3.8/site-packages/tensorflow/python/keras/engine/training.py\u001b[0m in \u001b[0;36mfit\u001b[0;34m(self, x, y, batch_size, epochs, verbose, callbacks, validation_split, validation_data, shuffle, class_weight, sample_weight, initial_epoch, steps_per_epoch, validation_steps, validation_batch_size, validation_freq, max_queue_size, workers, use_multiprocessing)\u001b[0m\n\u001b[1;32m   1089\u001b[0m         \u001b[0;32mwith\u001b[0m \u001b[0mdata_handler\u001b[0m\u001b[0;34m.\u001b[0m\u001b[0mcatch_stop_iteration\u001b[0m\u001b[0;34m(\u001b[0m\u001b[0;34m)\u001b[0m\u001b[0;34m:\u001b[0m\u001b[0;34m\u001b[0m\u001b[0;34m\u001b[0m\u001b[0m\n\u001b[1;32m   1090\u001b[0m           \u001b[0;32mfor\u001b[0m \u001b[0mstep\u001b[0m \u001b[0;32min\u001b[0m \u001b[0mdata_handler\u001b[0m\u001b[0;34m.\u001b[0m\u001b[0msteps\u001b[0m\u001b[0;34m(\u001b[0m\u001b[0;34m)\u001b[0m\u001b[0;34m:\u001b[0m\u001b[0;34m\u001b[0m\u001b[0;34m\u001b[0m\u001b[0m\n\u001b[0;32m-> 1091\u001b[0;31m             with trace.Trace(\n\u001b[0m\u001b[1;32m   1092\u001b[0m                 \u001b[0;34m'TraceContext'\u001b[0m\u001b[0;34m,\u001b[0m\u001b[0;34m\u001b[0m\u001b[0;34m\u001b[0m\u001b[0m\n\u001b[1;32m   1093\u001b[0m                 \u001b[0mgraph_type\u001b[0m\u001b[0;34m=\u001b[0m\u001b[0;34m'train'\u001b[0m\u001b[0;34m,\u001b[0m\u001b[0;34m\u001b[0m\u001b[0;34m\u001b[0m\u001b[0m\n",
      "\u001b[0;31mKeyboardInterrupt\u001b[0m: "
     ]
    }
   ],
   "source": [
    "model.fit(x=X_train, y=y_train, epochs = 700, batch_size = 128, validation_data=(X_test, y_test), verbose = 1, callbacks = [early_stop])"
   ]
  },
  {
   "cell_type": "code",
   "execution_count": 73,
   "metadata": {},
   "outputs": [],
   "source": [
    "pred = model.predict(X_test)"
   ]
  },
  {
   "cell_type": "code",
   "execution_count": 76,
   "metadata": {},
   "outputs": [],
   "source": [
    "from sklearn.metrics import classification_report, confusion_matrix"
   ]
  },
  {
   "cell_type": "code",
   "execution_count": 77,
   "metadata": {},
   "outputs": [
    {
     "ename": "ValueError",
     "evalue": "Classification metrics can't handle a mix of continuous and binary targets",
     "output_type": "error",
     "traceback": [
      "\u001b[0;31m---------------------------------------------------------------------------\u001b[0m",
      "\u001b[0;31mValueError\u001b[0m                                Traceback (most recent call last)",
      "\u001b[0;32m<ipython-input-77-afadbc4c0e4b>\u001b[0m in \u001b[0;36m<module>\u001b[0;34m\u001b[0m\n\u001b[0;32m----> 1\u001b[0;31m \u001b[0mprint\u001b[0m\u001b[0;34m(\u001b[0m\u001b[0mconfusion_matrix\u001b[0m\u001b[0;34m(\u001b[0m\u001b[0mpred\u001b[0m\u001b[0;34m,\u001b[0m \u001b[0my_test\u001b[0m\u001b[0;34m)\u001b[0m\u001b[0;34m)\u001b[0m\u001b[0;34m\u001b[0m\u001b[0;34m\u001b[0m\u001b[0m\n\u001b[0m",
      "\u001b[0;32m~/opt/anaconda3/lib/python3.8/site-packages/sklearn/utils/validation.py\u001b[0m in \u001b[0;36minner_f\u001b[0;34m(*args, **kwargs)\u001b[0m\n\u001b[1;32m     70\u001b[0m                           FutureWarning)\n\u001b[1;32m     71\u001b[0m         \u001b[0mkwargs\u001b[0m\u001b[0;34m.\u001b[0m\u001b[0mupdate\u001b[0m\u001b[0;34m(\u001b[0m\u001b[0;34m{\u001b[0m\u001b[0mk\u001b[0m\u001b[0;34m:\u001b[0m \u001b[0marg\u001b[0m \u001b[0;32mfor\u001b[0m \u001b[0mk\u001b[0m\u001b[0;34m,\u001b[0m \u001b[0marg\u001b[0m \u001b[0;32min\u001b[0m \u001b[0mzip\u001b[0m\u001b[0;34m(\u001b[0m\u001b[0msig\u001b[0m\u001b[0;34m.\u001b[0m\u001b[0mparameters\u001b[0m\u001b[0;34m,\u001b[0m \u001b[0margs\u001b[0m\u001b[0;34m)\u001b[0m\u001b[0;34m}\u001b[0m\u001b[0;34m)\u001b[0m\u001b[0;34m\u001b[0m\u001b[0;34m\u001b[0m\u001b[0m\n\u001b[0;32m---> 72\u001b[0;31m         \u001b[0;32mreturn\u001b[0m \u001b[0mf\u001b[0m\u001b[0;34m(\u001b[0m\u001b[0;34m**\u001b[0m\u001b[0mkwargs\u001b[0m\u001b[0;34m)\u001b[0m\u001b[0;34m\u001b[0m\u001b[0;34m\u001b[0m\u001b[0m\n\u001b[0m\u001b[1;32m     73\u001b[0m     \u001b[0;32mreturn\u001b[0m \u001b[0minner_f\u001b[0m\u001b[0;34m\u001b[0m\u001b[0;34m\u001b[0m\u001b[0m\n\u001b[1;32m     74\u001b[0m \u001b[0;34m\u001b[0m\u001b[0m\n",
      "\u001b[0;32m~/opt/anaconda3/lib/python3.8/site-packages/sklearn/metrics/_classification.py\u001b[0m in \u001b[0;36mconfusion_matrix\u001b[0;34m(y_true, y_pred, labels, sample_weight, normalize)\u001b[0m\n\u001b[1;32m    274\u001b[0m \u001b[0;34m\u001b[0m\u001b[0m\n\u001b[1;32m    275\u001b[0m     \"\"\"\n\u001b[0;32m--> 276\u001b[0;31m     \u001b[0my_type\u001b[0m\u001b[0;34m,\u001b[0m \u001b[0my_true\u001b[0m\u001b[0;34m,\u001b[0m \u001b[0my_pred\u001b[0m \u001b[0;34m=\u001b[0m \u001b[0m_check_targets\u001b[0m\u001b[0;34m(\u001b[0m\u001b[0my_true\u001b[0m\u001b[0;34m,\u001b[0m \u001b[0my_pred\u001b[0m\u001b[0;34m)\u001b[0m\u001b[0;34m\u001b[0m\u001b[0;34m\u001b[0m\u001b[0m\n\u001b[0m\u001b[1;32m    277\u001b[0m     \u001b[0;32mif\u001b[0m \u001b[0my_type\u001b[0m \u001b[0;32mnot\u001b[0m \u001b[0;32min\u001b[0m \u001b[0;34m(\u001b[0m\u001b[0;34m\"binary\"\u001b[0m\u001b[0;34m,\u001b[0m \u001b[0;34m\"multiclass\"\u001b[0m\u001b[0;34m)\u001b[0m\u001b[0;34m:\u001b[0m\u001b[0;34m\u001b[0m\u001b[0;34m\u001b[0m\u001b[0m\n\u001b[1;32m    278\u001b[0m         \u001b[0;32mraise\u001b[0m \u001b[0mValueError\u001b[0m\u001b[0;34m(\u001b[0m\u001b[0;34m\"%s is not supported\"\u001b[0m \u001b[0;34m%\u001b[0m \u001b[0my_type\u001b[0m\u001b[0;34m)\u001b[0m\u001b[0;34m\u001b[0m\u001b[0;34m\u001b[0m\u001b[0m\n",
      "\u001b[0;32m~/opt/anaconda3/lib/python3.8/site-packages/sklearn/metrics/_classification.py\u001b[0m in \u001b[0;36m_check_targets\u001b[0;34m(y_true, y_pred)\u001b[0m\n\u001b[1;32m     88\u001b[0m \u001b[0;34m\u001b[0m\u001b[0m\n\u001b[1;32m     89\u001b[0m     \u001b[0;32mif\u001b[0m \u001b[0mlen\u001b[0m\u001b[0;34m(\u001b[0m\u001b[0my_type\u001b[0m\u001b[0;34m)\u001b[0m \u001b[0;34m>\u001b[0m \u001b[0;36m1\u001b[0m\u001b[0;34m:\u001b[0m\u001b[0;34m\u001b[0m\u001b[0;34m\u001b[0m\u001b[0m\n\u001b[0;32m---> 90\u001b[0;31m         raise ValueError(\"Classification metrics can't handle a mix of {0} \"\n\u001b[0m\u001b[1;32m     91\u001b[0m                          \"and {1} targets\".format(type_true, type_pred))\n\u001b[1;32m     92\u001b[0m \u001b[0;34m\u001b[0m\u001b[0m\n",
      "\u001b[0;31mValueError\u001b[0m: Classification metrics can't handle a mix of continuous and binary targets"
     ]
    }
   ],
   "source": [
    "print(confusion_matrix(pred, y_test))"
   ]
  },
  {
   "cell_type": "code",
   "execution_count": null,
   "metadata": {},
   "outputs": [],
   "source": []
  }
 ],
 "metadata": {
  "kernelspec": {
   "display_name": "Python 3",
   "language": "python",
   "name": "python3"
  },
  "language_info": {
   "codemirror_mode": {
    "name": "ipython",
    "version": 3
   },
   "file_extension": ".py",
   "mimetype": "text/x-python",
   "name": "python",
   "nbconvert_exporter": "python",
   "pygments_lexer": "ipython3",
   "version": "3.8.3"
  }
 },
 "nbformat": 4,
 "nbformat_minor": 4
}
